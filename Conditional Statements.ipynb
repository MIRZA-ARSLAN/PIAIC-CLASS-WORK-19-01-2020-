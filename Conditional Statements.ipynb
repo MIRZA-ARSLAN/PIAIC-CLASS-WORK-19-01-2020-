{
 "cells": [
  {
   "cell_type": "markdown",
   "metadata": {},
   "source": [
    "#### if-Else statement... helps us to make decision"
   ]
  },
  {
   "cell_type": "code",
   "execution_count": 1,
   "metadata": {},
   "outputs": [
    {
     "data": {
      "text/plain": [
       "True"
      ]
     },
     "execution_count": 1,
     "metadata": {},
     "output_type": "execute_result"
    }
   ],
   "source": [
    "max(2,3,4,5) < 100"
   ]
  },
  {
   "cell_type": "code",
   "execution_count": 2,
   "metadata": {},
   "outputs": [
    {
     "data": {
      "text/plain": [
       "True"
      ]
     },
     "execution_count": 2,
     "metadata": {},
     "output_type": "execute_result"
    }
   ],
   "source": [
    "len('hell0') > 3"
   ]
  },
  {
   "cell_type": "code",
   "execution_count": 3,
   "metadata": {},
   "outputs": [
    {
     "data": {
      "text/plain": [
       "True"
      ]
     },
     "execution_count": 3,
     "metadata": {},
     "output_type": "execute_result"
    }
   ],
   "source": [
    "9 >= 9"
   ]
  },
  {
   "cell_type": "code",
   "execution_count": 4,
   "metadata": {},
   "outputs": [
    {
     "data": {
      "text/plain": [
       "True"
      ]
     },
     "execution_count": 4,
     "metadata": {},
     "output_type": "execute_result"
    }
   ],
   "source": [
    "8 <= 8"
   ]
  },
  {
   "cell_type": "code",
   "execution_count": 5,
   "metadata": {},
   "outputs": [
    {
     "data": {
      "text/plain": [
       "True"
      ]
     },
     "execution_count": 5,
     "metadata": {},
     "output_type": "execute_result"
    }
   ],
   "source": [
    "8 >= 5"
   ]
  },
  {
   "cell_type": "code",
   "execution_count": 6,
   "metadata": {},
   "outputs": [
    {
     "data": {
      "text/plain": [
       "True"
      ]
     },
     "execution_count": 6,
     "metadata": {},
     "output_type": "execute_result"
    }
   ],
   "source": [
    "6 % 3 == 0"
   ]
  },
  {
   "cell_type": "code",
   "execution_count": 7,
   "metadata": {},
   "outputs": [
    {
     "name": "stdout",
     "output_type": "stream",
     "text": [
      "the number  10 is less than  20\n"
     ]
    }
   ],
   "source": [
    "number = 10\n",
    "if number < 20:\n",
    "    print(\"the number \", number, 'is less than ', 20)"
   ]
  },
  {
   "cell_type": "code",
   "execution_count": 8,
   "metadata": {},
   "outputs": [
    {
     "name": "stdout",
     "output_type": "stream",
     "text": [
      "the number  10 is less than  20\n"
     ]
    }
   ],
   "source": [
    "number = 10\n",
    "if(number) < 20:\n",
    "    print(\"the number \", number, 'is less than ', 20)"
   ]
  },
  {
   "cell_type": "code",
   "execution_count": 9,
   "metadata": {},
   "outputs": [
    {
     "name": "stdout",
     "output_type": "stream",
     "text": [
      "the number 10 is less than 20\n"
     ]
    }
   ],
   "source": [
    "number = 10\n",
    "if(number > 20):\n",
    "    print(\"the number \", number, 'is greater than ', 20)\n",
    "else:\n",
    "    print(\"the number\", number, 'is less than', 20)"
   ]
  },
  {
   "cell_type": "markdown",
   "metadata": {},
   "source": [
    "#### IF--ELIF or Else-if Statement\n",
    "#### logical operators ... and, or, not"
   ]
  },
  {
   "cell_type": "code",
   "execution_count": 10,
   "metadata": {},
   "outputs": [
    {
     "name": "stdout",
     "output_type": "stream",
     "text": [
      "the number is between 0 to 50\n"
     ]
    }
   ],
   "source": [
    "num1 = 34\n",
    "if(num1 >= 0 and num1 < 50):\n",
    "    print(\"the number is between 0 to 50\")\n",
    "elif( num1 >= 50 and num1 < 100):\n",
    "     print(\"the number is between 50 to 100\")\n",
    "elif(num1 >= 100 and num1 < 200):\n",
    "    print(\"the number is between 100 to 200\")\n",
    "else:\n",
    "    print(\"the number is above 200 and so on\")\n"
   ]
  },
  {
   "cell_type": "code",
   "execution_count": 11,
   "metadata": {},
   "outputs": [
    {
     "name": "stdout",
     "output_type": "stream",
     "text": [
      "The account is active\n"
     ]
    }
   ],
   "source": [
    "active = True\n",
    "if(not active):\n",
    "    print(\"the account is not active\")\n",
    "else:\n",
    "    print(\"The account is active\")"
   ]
  },
  {
   "cell_type": "code",
   "execution_count": 12,
   "metadata": {},
   "outputs": [
    {
     "name": "stdout",
     "output_type": "stream",
     "text": [
      "one of the conditions has to be true\n"
     ]
    }
   ],
   "source": [
    "if(num1 <= 50 or not active):\n",
    "    print(\"one of the conditions has to be true\")"
   ]
  },
  {
   "cell_type": "code",
   "execution_count": 13,
   "metadata": {},
   "outputs": [
    {
     "name": "stdout",
     "output_type": "stream",
     "text": [
      "the number is even\n"
     ]
    }
   ],
   "source": [
    "num = 8\n",
    "if(num % 2 == 0):\n",
    "    print(\"the number is even\")\n",
    "else:\n",
    "    print(\"the number is odd\")"
   ]
  },
  {
   "cell_type": "code",
   "execution_count": 14,
   "metadata": {},
   "outputs": [
    {
     "name": "stdout",
     "output_type": "stream",
     "text": [
      "the number is equal to 8\n"
     ]
    }
   ],
   "source": [
    "if( num != 8):\n",
    "    print(\"the number is not equal to 8\")\n",
    "else:\n",
    "    print(\"the number is equal to 8\")"
   ]
  },
  {
   "cell_type": "markdown",
   "metadata": {},
   "source": [
    "#### in statement"
   ]
  },
  {
   "cell_type": "code",
   "execution_count": 15,
   "metadata": {},
   "outputs": [
    {
     "name": "stdout",
     "output_type": "stream",
     "text": [
      "yes usman is a student\n"
     ]
    }
   ],
   "source": [
    "student_list = ['usman', 'ali', 'haji', 'kaliya']\n",
    "if( 'usman' in student_list):\n",
    "    print(\"yes usman is a student\")\n",
    "else:\n",
    "    print(\"no usman is not a student\")"
   ]
  },
  {
   "cell_type": "code",
   "execution_count": 16,
   "metadata": {},
   "outputs": [
    {
     "name": "stdout",
     "output_type": "stream",
     "text": [
      "yes i do have scores of ali\n"
     ]
    }
   ],
   "source": [
    "scores = {\n",
    "    'usman': 300,\n",
    "    'ali': 200,\n",
    "    'haji': 400,\n",
    "    'peeno': 600\n",
    "}\n",
    "if('ali' in scores):\n",
    "    print(\"yes i do have scores of ali\")\n",
    "else:\n",
    "    print(\"no i do not have scores of ali\")"
   ]
  },
  {
   "cell_type": "markdown",
   "metadata": {},
   "source": [
    "#### Conversions"
   ]
  },
  {
   "cell_type": "code",
   "execution_count": 17,
   "metadata": {},
   "outputs": [
    {
     "data": {
      "text/plain": [
       "123"
      ]
     },
     "execution_count": 17,
     "metadata": {},
     "output_type": "execute_result"
    }
   ],
   "source": [
    "some_str = '123'\n",
    "int_num = int(some_str)\n",
    "int_num\n"
   ]
  },
  {
   "cell_type": "code",
   "execution_count": 18,
   "metadata": {},
   "outputs": [
    {
     "data": {
      "text/plain": [
       "123.0"
      ]
     },
     "execution_count": 18,
     "metadata": {},
     "output_type": "execute_result"
    }
   ],
   "source": [
    "float_num = float(some_str)\n",
    "float_num"
   ]
  },
  {
   "cell_type": "code",
   "execution_count": 19,
   "metadata": {},
   "outputs": [
    {
     "data": {
      "text/plain": [
       "'0x38'"
      ]
     },
     "execution_count": 19,
     "metadata": {},
     "output_type": "execute_result"
    }
   ],
   "source": [
    "hex(56)"
   ]
  },
  {
   "cell_type": "code",
   "execution_count": 20,
   "metadata": {},
   "outputs": [
    {
     "data": {
      "text/plain": [
       "'0b10100'"
      ]
     },
     "execution_count": 20,
     "metadata": {},
     "output_type": "execute_result"
    }
   ],
   "source": [
    "bin(20)"
   ]
  },
  {
   "cell_type": "code",
   "execution_count": 21,
   "metadata": {},
   "outputs": [
    {
     "data": {
      "text/plain": [
       "'0o14'"
      ]
     },
     "execution_count": 21,
     "metadata": {},
     "output_type": "execute_result"
    }
   ],
   "source": [
    "oct(12)"
   ]
  },
  {
   "cell_type": "markdown",
   "metadata": {},
   "source": [
    "#### the tuple function takes a string and converts it to tuple.."
   ]
  },
  {
   "cell_type": "code",
   "execution_count": 22,
   "metadata": {},
   "outputs": [
    {
     "data": {
      "text/plain": [
       "('H', 'e', 'l', 'l', 'o')"
      ]
     },
     "execution_count": 22,
     "metadata": {},
     "output_type": "execute_result"
    }
   ],
   "source": [
    "tuple('Hello')"
   ]
  },
  {
   "cell_type": "code",
   "execution_count": 23,
   "metadata": {},
   "outputs": [
    {
     "data": {
      "text/plain": [
       "['H', 'e', 'l', 'l', 'o']"
      ]
     },
     "execution_count": 23,
     "metadata": {},
     "output_type": "execute_result"
    }
   ],
   "source": [
    "list('Hello')"
   ]
  },
  {
   "cell_type": "markdown",
   "metadata": {},
   "source": [
    "#### list into tuple"
   ]
  },
  {
   "cell_type": "code",
   "execution_count": 24,
   "metadata": {},
   "outputs": [
    {
     "data": {
      "text/plain": [
       "(1, 2, 3, 4, 5)"
      ]
     },
     "execution_count": 24,
     "metadata": {},
     "output_type": "execute_result"
    }
   ],
   "source": [
    "tuple([1,2,3,4,5])"
   ]
  },
  {
   "cell_type": "code",
   "execution_count": 36,
   "metadata": {},
   "outputs": [
    {
     "data": {
      "text/plain": [
       "('h', 'e', 'l', 'l', 'o')"
      ]
     },
     "execution_count": 36,
     "metadata": {},
     "output_type": "execute_result"
    }
   ],
   "source": [
    "tuple(list('hello'))"
   ]
  },
  {
   "cell_type": "markdown",
   "metadata": {},
   "source": [
    "#### set data structure or function..\n",
    "#### set removes all duplicates from any list"
   ]
  },
  {
   "cell_type": "code",
   "execution_count": 26,
   "metadata": {},
   "outputs": [
    {
     "data": {
      "text/plain": [
       "{'H', 'e', 'l', 'o'}"
      ]
     },
     "execution_count": 26,
     "metadata": {},
     "output_type": "execute_result"
    }
   ],
   "source": [
    "set('Hello')"
   ]
  },
  {
   "cell_type": "code",
   "execution_count": 27,
   "metadata": {},
   "outputs": [
    {
     "data": {
      "text/plain": [
       "'12345'"
      ]
     },
     "execution_count": 27,
     "metadata": {},
     "output_type": "execute_result"
    }
   ],
   "source": [
    "int_to_str = str(12345)\n",
    "int_to_str"
   ]
  },
  {
   "cell_type": "code",
   "execution_count": 28,
   "metadata": {},
   "outputs": [
    {
     "data": {
      "text/plain": [
       "{'a': 1, 'b': 2, 'c': 3}"
      ]
     },
     "execution_count": 28,
     "metadata": {},
     "output_type": "execute_result"
    }
   ],
   "source": [
    "tuple_of_tuple = (('a',1), ('b',2), ('c',3))\n",
    "dictionary = dict(tuple_of_tuple)\n",
    "dictionary"
   ]
  },
  {
   "cell_type": "code",
   "execution_count": 29,
   "metadata": {},
   "outputs": [
    {
     "data": {
      "text/plain": [
       "1"
      ]
     },
     "execution_count": 29,
     "metadata": {},
     "output_type": "execute_result"
    }
   ],
   "source": [
    "dictionary['a']"
   ]
  },
  {
   "cell_type": "code",
   "execution_count": 30,
   "metadata": {},
   "outputs": [
    {
     "data": {
      "text/plain": [
       "dict"
      ]
     },
     "execution_count": 30,
     "metadata": {},
     "output_type": "execute_result"
    }
   ],
   "source": [
    " type(dictionary)"
   ]
  },
  {
   "cell_type": "markdown",
   "metadata": {},
   "source": [
    "#### nested if"
   ]
  },
  {
   "cell_type": "code",
   "execution_count": 37,
   "metadata": {},
   "outputs": [
    {
     "name": "stdout",
     "output_type": "stream",
     "text": [
      "Enter the first grade3\n",
      "Enter the second grade3\n",
      "enter the number of absences3\n",
      "enter the total number of classes 13\n",
      "Average Grade:  3.0\n",
      "Attendance rate:  76.92%\n",
      "the student has failed due to average grade lower than 6.0 and attendance rate lower than 80%\n"
     ]
    }
   ],
   "source": [
    "grade1 = float(input(\"Enter the first grade\"))\n",
    "grade2 = float(input(\"Enter the second grade\"))\n",
    "absences = int(input(\"enter the number of absences\"))\n",
    "total_classes = int(input(\"enter the total number of classes \"))\n",
    "avg_grade = (grade1 + grade2) / 2\n",
    "attendance = (total_classes - absences) / total_classes\n",
    "\n",
    "print('Average Grade: ', round(avg_grade,2))\n",
    "print('Attendance rate: ', str(round((attendance * 100),2))+ '%')\n",
    "\n",
    "if(avg_grade >= 6):\n",
    "    if(attendance >= 0.8):\n",
    "        #### if both are true grade is > 6  and attendance > 80% than this will print\n",
    "        print(\"the student has been approved or passed\")\n",
    "        \n",
    "        #### this else will print when the avg grade is > 6 but the attendance is < 80%..inner if\n",
    "    else:\n",
    "        print(\"the student has failed due to attendance rate lower than 80% \")\n",
    "        #### this elif is part of outer if ..if we get here ..the elif part it means that grade is lower than 6..\n",
    "        # if first if gets failed..first condition gets failed..here we just have to check the attendance\n",
    "elif(attendance >= 0.8):\n",
    "    print(\"the student has failed due to average grade lower than 6.0\")\n",
    "else:\n",
    "    ## if we get to this point it means that the grade is less than 6..and attendance rate ..tested or checked in elif \n",
    "     # part is also lower than 80%..than this print statement will get executed..this else is part of elif..\n",
    "    \n",
    "    print(\"the student has failed due to average grade lower than 6.0 and attendance rate lower than 80%\")"
   ]
  },
  {
   "cell_type": "markdown",
   "metadata": {},
   "source": [
    "#### AND OR operator..."
   ]
  },
  {
   "cell_type": "code",
   "execution_count": 55,
   "metadata": {},
   "outputs": [
    {
     "name": "stdout",
     "output_type": "stream",
     "text": [
      "Enter the first grade: 2\n",
      "Enter the second grade: 3\n",
      "enter the number of absences: 12\n",
      "enter the total number of classes: 25\n",
      "Average Grade:  2.5\n",
      "Attendance rate:  52.0%\n",
      "the student has failed due to average grade lower than 6.0 and attendance rate lower than 80%\n"
     ]
    }
   ],
   "source": [
    "grade1 = float(input(\"Enter the first grade: \"))\n",
    "grade2 = float(input(\"Enter the second grade: \"))\n",
    "absences = int(input(\"enter the number of absences: \"))\n",
    "total_classes = int(input(\"enter the total number of classes: \"))\n",
    "avg_grade = (grade1 + grade2) / 2\n",
    "attendance = (total_classes - absences) / total_classes\n",
    "\n",
    "print('Average Grade: ', round(avg_grade,2))\n",
    "print('Attendance rate: ', str(round((attendance * 100),2))+ '%')\n",
    "\n",
    "if(avg_grade >= 6 and attendance >= 0.8 ):\n",
    "        print(\"the student has been approved or passed\")   \n",
    "elif(avg_grade < 6 and attendance < 0.8):\n",
    "        print(\"the student has failed due to average grade lower than 6.0 and attendance rate lower than 80%\")\n",
    "elif(attendance >= 0.8):\n",
    "        print(\"the student has failed due to average grade lower than 6.0\")\n",
    "else:\n",
    "        print(\"the student has failed due to attendance rate lower than 80% \")\n",
    "     \n",
    "    \n",
    "    "
   ]
  },
  {
   "cell_type": "code",
   "execution_count": 53,
   "metadata": {},
   "outputs": [
    {
     "name": "stdout",
     "output_type": "stream",
     "text": [
      "This program calculates your body mass index \n",
      "please enter your weight in KG ex(70.5) 11\n",
      "please enter your height in Meters ex(1.20)2.3\n",
      "Your BMI('Body Mass Index') is =  2.08\n",
      "You are Underweight\n"
     ]
    }
   ],
   "source": [
    "print(\"This program calculates your body mass index \")\n",
    "\n",
    "weight = float(input(\"please enter your weight in KG ex(70.5) \"))\n",
    "height = float(input(\"please enter your height in Meters ex(1.20) \" ))\n",
    "bmi = weight / (height ** 2)\n",
    "print(\"Your BMI('Body Mass Index') is = \", round(bmi,2))\n",
    "\n",
    "if(bmi <= 18.5):\n",
    "    print(\"You are Underweight\")\n",
    "elif(bmi > 18.5 and bmi <= 24.9):\n",
    "    print(\"You have normal weight\")\n",
    "elif(bmi > 24.9 and bmi <= 29.9):\n",
    "    print(\"You are overweight\")\n",
    "elif(bmi >= 30):\n",
    "    print(\"Obesity\")"
   ]
  },
  {
   "cell_type": "code",
   "execution_count": null,
   "metadata": {},
   "outputs": [],
   "source": []
  },
  {
   "cell_type": "code",
   "execution_count": null,
   "metadata": {},
   "outputs": [],
   "source": []
  }
 ],
 "metadata": {
  "kernelspec": {
   "display_name": "Python 3",
   "language": "python",
   "name": "python3"
  },
  "language_info": {
   "codemirror_mode": {
    "name": "ipython",
    "version": 3
   },
   "file_extension": ".py",
   "mimetype": "text/x-python",
   "name": "python",
   "nbconvert_exporter": "python",
   "pygments_lexer": "ipython3",
   "version": "3.7.3"
  }
 },
 "nbformat": 4,
 "nbformat_minor": 2
}
